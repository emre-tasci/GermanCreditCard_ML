{
  "nbformat": 4,
  "nbformat_minor": 0,
  "metadata": {
    "colab": {
      "name": "ML_HW1_YunusEmreTasci_25467.ipynb",
      "provenance": [],
      "collapsed_sections": []
    },
    "kernelspec": {
      "name": "python3",
      "display_name": "Python 3"
    },
    "accelerator": "GPU"
  },
  "cells": [
    {
      "cell_type": "markdown",
      "metadata": {
        "id": "DTfDIhAYYjaX",
        "colab_type": "text"
      },
      "source": [
        "# Load the dataset"
      ]
    },
    {
      "cell_type": "code",
      "metadata": {
        "id": "HGi6c-0uZSeB",
        "colab_type": "code",
        "outputId": "504fac4f-d304-4e1d-a38b-d50301ddf6c2",
        "colab": {
          "base_uri": "https://localhost:8080/",
          "height": 126
        }
      },
      "source": [
        "from google.colab import drive\n",
        "drive.mount('/content/drive')"
      ],
      "execution_count": 1,
      "outputs": [
        {
          "output_type": "stream",
          "text": [
            "Go to this URL in a browser: https://accounts.google.com/o/oauth2/auth?client_id=947318989803-6bn6qk8qdgf4n4g3pfee6491hc0brc4i.apps.googleusercontent.com&redirect_uri=urn%3aietf%3awg%3aoauth%3a2.0%3aoob&response_type=code&scope=email%20https%3a%2f%2fwww.googleapis.com%2fauth%2fdocs.test%20https%3a%2f%2fwww.googleapis.com%2fauth%2fdrive%20https%3a%2f%2fwww.googleapis.com%2fauth%2fdrive.photos.readonly%20https%3a%2f%2fwww.googleapis.com%2fauth%2fpeopleapi.readonly\n",
            "\n",
            "Enter your authorization code:\n",
            "··········\n",
            "Mounted at /content/drive\n"
          ],
          "name": "stdout"
        }
      ]
    },
    {
      "cell_type": "code",
      "metadata": {
        "id": "yFpeyxi8aqIl",
        "colab_type": "code",
        "colab": {}
      },
      "source": [
        "# You can find the data under https://drive.google.com/drive/folders/1e550az93U3_kfRBbVY5PZnMKYwGYmHqi?usp=sharing\n",
        "\n",
        "import pandas as pd\n",
        "import numpy as np\n",
        "\n",
        "train_data =pd.read_csv( \"/content/drive/My Drive/HW1/train_data.csv\")\n",
        "train_label =pd.read_csv( \"/content/drive/My Drive/HW1/train_label.csv\")\n",
        "test_data = pd.read_csv( \"/content/drive/My Drive/HW1/test_data.csv\")\n",
        "test_label = pd.read_csv( \"/content/drive/My Drive/HW1/test_label.csv\")"
      ],
      "execution_count": 0,
      "outputs": []
    },
    {
      "cell_type": "code",
      "metadata": {
        "id": "OZXqzZlXBIN0",
        "colab_type": "code",
        "outputId": "9cb25422-0cba-4a83-bd21-543dc1dc13ff",
        "colab": {
          "base_uri": "https://localhost:8080/",
          "height": 231
        }
      },
      "source": [
        "# show random samples from the training data\n",
        "train_data.head()\n",
        "\n",
        "# One line of code"
      ],
      "execution_count": 3,
      "outputs": [
        {
          "output_type": "execute_result",
          "data": {
            "text/html": [
              "<div>\n",
              "<style scoped>\n",
              "    .dataframe tbody tr th:only-of-type {\n",
              "        vertical-align: middle;\n",
              "    }\n",
              "\n",
              "    .dataframe tbody tr th {\n",
              "        vertical-align: top;\n",
              "    }\n",
              "\n",
              "    .dataframe thead th {\n",
              "        text-align: right;\n",
              "    }\n",
              "</style>\n",
              "<table border=\"1\" class=\"dataframe\">\n",
              "  <thead>\n",
              "    <tr style=\"text-align: right;\">\n",
              "      <th></th>\n",
              "      <th>id</th>\n",
              "      <th>duration</th>\n",
              "      <th>credit_amount</th>\n",
              "      <th>installment_commitment</th>\n",
              "      <th>residence_since</th>\n",
              "      <th>age</th>\n",
              "      <th>existing_credits</th>\n",
              "      <th>num_dependents</th>\n",
              "      <th>f_worker</th>\n",
              "      <th>checking_status_&lt;0</th>\n",
              "      <th>checking_status_&gt;=200</th>\n",
              "      <th>checking_status_no checking</th>\n",
              "      <th>credit_history_critical/other existing credit</th>\n",
              "      <th>credit_history_delayed previously</th>\n",
              "      <th>credit_history_existing paid</th>\n",
              "      <th>credit_history_no credits/all paid</th>\n",
              "      <th>purpose_domestic appliance</th>\n",
              "      <th>purpose_education</th>\n",
              "      <th>purpose_furniture/equipment</th>\n",
              "      <th>purpose_new car</th>\n",
              "      <th>purpose_other</th>\n",
              "      <th>purpose_radio/tv</th>\n",
              "      <th>purpose_repairs</th>\n",
              "      <th>purpose_retraining</th>\n",
              "      <th>purpose_used car</th>\n",
              "      <th>savings_status_500&lt;=X&lt;1000</th>\n",
              "      <th>savings_status_&lt;100</th>\n",
              "      <th>savings_status_&gt;=1000</th>\n",
              "      <th>savings_status_no known savings</th>\n",
              "      <th>employment_4&lt;=X&lt;7</th>\n",
              "      <th>employment_&lt;1</th>\n",
              "      <th>employment_&gt;=7</th>\n",
              "      <th>employment_unemployed</th>\n",
              "      <th>personal_status_male div/sep</th>\n",
              "      <th>personal_status_male mar/wid</th>\n",
              "      <th>personal_status_male single</th>\n",
              "      <th>other_parties_guarantor</th>\n",
              "      <th>other_parties_none</th>\n",
              "      <th>property_magnitude_life insurance</th>\n",
              "      <th>property_magnitude_no known property</th>\n",
              "      <th>property_magnitude_real estate</th>\n",
              "      <th>other_payment_plans_none</th>\n",
              "      <th>other_payment_plans_stores</th>\n",
              "      <th>housing_own</th>\n",
              "      <th>housing_rent</th>\n",
              "      <th>job_skilled</th>\n",
              "      <th>job_unemp/unskilled non res</th>\n",
              "      <th>job_unskilled resident</th>\n",
              "      <th>own_telephone_yes</th>\n",
              "    </tr>\n",
              "  </thead>\n",
              "  <tbody>\n",
              "    <tr>\n",
              "      <th>0</th>\n",
              "      <td>1</td>\n",
              "      <td>6</td>\n",
              "      <td>1169</td>\n",
              "      <td>4</td>\n",
              "      <td>4</td>\n",
              "      <td>67</td>\n",
              "      <td>2</td>\n",
              "      <td>1</td>\n",
              "      <td>1</td>\n",
              "      <td>1</td>\n",
              "      <td>0</td>\n",
              "      <td>0</td>\n",
              "      <td>1</td>\n",
              "      <td>0</td>\n",
              "      <td>0</td>\n",
              "      <td>0</td>\n",
              "      <td>0</td>\n",
              "      <td>0</td>\n",
              "      <td>0</td>\n",
              "      <td>0</td>\n",
              "      <td>0</td>\n",
              "      <td>1</td>\n",
              "      <td>0</td>\n",
              "      <td>0</td>\n",
              "      <td>0</td>\n",
              "      <td>0</td>\n",
              "      <td>0</td>\n",
              "      <td>0</td>\n",
              "      <td>1</td>\n",
              "      <td>0</td>\n",
              "      <td>0</td>\n",
              "      <td>1</td>\n",
              "      <td>0</td>\n",
              "      <td>0</td>\n",
              "      <td>0</td>\n",
              "      <td>1</td>\n",
              "      <td>0</td>\n",
              "      <td>1</td>\n",
              "      <td>0</td>\n",
              "      <td>0</td>\n",
              "      <td>1</td>\n",
              "      <td>1</td>\n",
              "      <td>0</td>\n",
              "      <td>1</td>\n",
              "      <td>0</td>\n",
              "      <td>1</td>\n",
              "      <td>0</td>\n",
              "      <td>0</td>\n",
              "      <td>1</td>\n",
              "    </tr>\n",
              "    <tr>\n",
              "      <th>1</th>\n",
              "      <td>2</td>\n",
              "      <td>48</td>\n",
              "      <td>5951</td>\n",
              "      <td>2</td>\n",
              "      <td>2</td>\n",
              "      <td>22</td>\n",
              "      <td>1</td>\n",
              "      <td>1</td>\n",
              "      <td>1</td>\n",
              "      <td>0</td>\n",
              "      <td>0</td>\n",
              "      <td>0</td>\n",
              "      <td>0</td>\n",
              "      <td>0</td>\n",
              "      <td>1</td>\n",
              "      <td>0</td>\n",
              "      <td>0</td>\n",
              "      <td>0</td>\n",
              "      <td>0</td>\n",
              "      <td>0</td>\n",
              "      <td>0</td>\n",
              "      <td>1</td>\n",
              "      <td>0</td>\n",
              "      <td>0</td>\n",
              "      <td>0</td>\n",
              "      <td>0</td>\n",
              "      <td>1</td>\n",
              "      <td>0</td>\n",
              "      <td>0</td>\n",
              "      <td>0</td>\n",
              "      <td>0</td>\n",
              "      <td>0</td>\n",
              "      <td>0</td>\n",
              "      <td>0</td>\n",
              "      <td>0</td>\n",
              "      <td>0</td>\n",
              "      <td>0</td>\n",
              "      <td>1</td>\n",
              "      <td>0</td>\n",
              "      <td>0</td>\n",
              "      <td>1</td>\n",
              "      <td>1</td>\n",
              "      <td>0</td>\n",
              "      <td>1</td>\n",
              "      <td>0</td>\n",
              "      <td>1</td>\n",
              "      <td>0</td>\n",
              "      <td>0</td>\n",
              "      <td>0</td>\n",
              "    </tr>\n",
              "    <tr>\n",
              "      <th>2</th>\n",
              "      <td>3</td>\n",
              "      <td>12</td>\n",
              "      <td>2096</td>\n",
              "      <td>2</td>\n",
              "      <td>3</td>\n",
              "      <td>49</td>\n",
              "      <td>1</td>\n",
              "      <td>2</td>\n",
              "      <td>1</td>\n",
              "      <td>0</td>\n",
              "      <td>0</td>\n",
              "      <td>1</td>\n",
              "      <td>1</td>\n",
              "      <td>0</td>\n",
              "      <td>0</td>\n",
              "      <td>0</td>\n",
              "      <td>0</td>\n",
              "      <td>1</td>\n",
              "      <td>0</td>\n",
              "      <td>0</td>\n",
              "      <td>0</td>\n",
              "      <td>0</td>\n",
              "      <td>0</td>\n",
              "      <td>0</td>\n",
              "      <td>0</td>\n",
              "      <td>0</td>\n",
              "      <td>1</td>\n",
              "      <td>0</td>\n",
              "      <td>0</td>\n",
              "      <td>1</td>\n",
              "      <td>0</td>\n",
              "      <td>0</td>\n",
              "      <td>0</td>\n",
              "      <td>0</td>\n",
              "      <td>0</td>\n",
              "      <td>1</td>\n",
              "      <td>0</td>\n",
              "      <td>1</td>\n",
              "      <td>0</td>\n",
              "      <td>0</td>\n",
              "      <td>1</td>\n",
              "      <td>1</td>\n",
              "      <td>0</td>\n",
              "      <td>1</td>\n",
              "      <td>0</td>\n",
              "      <td>0</td>\n",
              "      <td>0</td>\n",
              "      <td>1</td>\n",
              "      <td>0</td>\n",
              "    </tr>\n",
              "    <tr>\n",
              "      <th>3</th>\n",
              "      <td>4</td>\n",
              "      <td>42</td>\n",
              "      <td>7882</td>\n",
              "      <td>2</td>\n",
              "      <td>4</td>\n",
              "      <td>45</td>\n",
              "      <td>1</td>\n",
              "      <td>2</td>\n",
              "      <td>1</td>\n",
              "      <td>1</td>\n",
              "      <td>0</td>\n",
              "      <td>0</td>\n",
              "      <td>0</td>\n",
              "      <td>0</td>\n",
              "      <td>1</td>\n",
              "      <td>0</td>\n",
              "      <td>0</td>\n",
              "      <td>0</td>\n",
              "      <td>1</td>\n",
              "      <td>0</td>\n",
              "      <td>0</td>\n",
              "      <td>0</td>\n",
              "      <td>0</td>\n",
              "      <td>0</td>\n",
              "      <td>0</td>\n",
              "      <td>0</td>\n",
              "      <td>1</td>\n",
              "      <td>0</td>\n",
              "      <td>0</td>\n",
              "      <td>1</td>\n",
              "      <td>0</td>\n",
              "      <td>0</td>\n",
              "      <td>0</td>\n",
              "      <td>0</td>\n",
              "      <td>0</td>\n",
              "      <td>1</td>\n",
              "      <td>1</td>\n",
              "      <td>0</td>\n",
              "      <td>1</td>\n",
              "      <td>0</td>\n",
              "      <td>0</td>\n",
              "      <td>1</td>\n",
              "      <td>0</td>\n",
              "      <td>0</td>\n",
              "      <td>0</td>\n",
              "      <td>1</td>\n",
              "      <td>0</td>\n",
              "      <td>0</td>\n",
              "      <td>0</td>\n",
              "    </tr>\n",
              "    <tr>\n",
              "      <th>4</th>\n",
              "      <td>5</td>\n",
              "      <td>24</td>\n",
              "      <td>4870</td>\n",
              "      <td>3</td>\n",
              "      <td>4</td>\n",
              "      <td>53</td>\n",
              "      <td>2</td>\n",
              "      <td>2</td>\n",
              "      <td>1</td>\n",
              "      <td>1</td>\n",
              "      <td>0</td>\n",
              "      <td>0</td>\n",
              "      <td>0</td>\n",
              "      <td>1</td>\n",
              "      <td>0</td>\n",
              "      <td>0</td>\n",
              "      <td>0</td>\n",
              "      <td>0</td>\n",
              "      <td>0</td>\n",
              "      <td>1</td>\n",
              "      <td>0</td>\n",
              "      <td>0</td>\n",
              "      <td>0</td>\n",
              "      <td>0</td>\n",
              "      <td>0</td>\n",
              "      <td>0</td>\n",
              "      <td>1</td>\n",
              "      <td>0</td>\n",
              "      <td>0</td>\n",
              "      <td>0</td>\n",
              "      <td>0</td>\n",
              "      <td>0</td>\n",
              "      <td>0</td>\n",
              "      <td>0</td>\n",
              "      <td>0</td>\n",
              "      <td>1</td>\n",
              "      <td>0</td>\n",
              "      <td>1</td>\n",
              "      <td>0</td>\n",
              "      <td>1</td>\n",
              "      <td>0</td>\n",
              "      <td>1</td>\n",
              "      <td>0</td>\n",
              "      <td>0</td>\n",
              "      <td>0</td>\n",
              "      <td>1</td>\n",
              "      <td>0</td>\n",
              "      <td>0</td>\n",
              "      <td>0</td>\n",
              "    </tr>\n",
              "  </tbody>\n",
              "</table>\n",
              "</div>"
            ],
            "text/plain": [
              "   id  duration  ...  job_unskilled resident  own_telephone_yes\n",
              "0   1         6  ...                       0                  1\n",
              "1   2        48  ...                       0                  0\n",
              "2   3        12  ...                       1                  0\n",
              "3   4        42  ...                       0                  0\n",
              "4   5        24  ...                       0                  0\n",
              "\n",
              "[5 rows x 49 columns]"
            ]
          },
          "metadata": {
            "tags": []
          },
          "execution_count": 3
        }
      ]
    },
    {
      "cell_type": "markdown",
      "metadata": {
        "id": "zfdOMtebODrA",
        "colab_type": "text"
      },
      "source": [
        ""
      ]
    },
    {
      "cell_type": "code",
      "metadata": {
        "id": "_SqCrltyN8gl",
        "colab_type": "code",
        "outputId": "4f188e52-80ac-4220-956e-d801faa2850b",
        "colab": {
          "base_uri": "https://localhost:8080/",
          "height": 399
        }
      },
      "source": [
        "train_label\n"
      ],
      "execution_count": 6,
      "outputs": [
        {
          "output_type": "execute_result",
          "data": {
            "text/html": [
              "<div>\n",
              "<style scoped>\n",
              "    .dataframe tbody tr th:only-of-type {\n",
              "        vertical-align: middle;\n",
              "    }\n",
              "\n",
              "    .dataframe tbody tr th {\n",
              "        vertical-align: top;\n",
              "    }\n",
              "\n",
              "    .dataframe thead th {\n",
              "        text-align: right;\n",
              "    }\n",
              "</style>\n",
              "<table border=\"1\" class=\"dataframe\">\n",
              "  <thead>\n",
              "    <tr style=\"text-align: right;\">\n",
              "      <th></th>\n",
              "      <th>label</th>\n",
              "    </tr>\n",
              "  </thead>\n",
              "  <tbody>\n",
              "    <tr>\n",
              "      <th>0</th>\n",
              "      <td>1</td>\n",
              "    </tr>\n",
              "    <tr>\n",
              "      <th>1</th>\n",
              "      <td>0</td>\n",
              "    </tr>\n",
              "    <tr>\n",
              "      <th>2</th>\n",
              "      <td>1</td>\n",
              "    </tr>\n",
              "    <tr>\n",
              "      <th>3</th>\n",
              "      <td>1</td>\n",
              "    </tr>\n",
              "    <tr>\n",
              "      <th>4</th>\n",
              "      <td>0</td>\n",
              "    </tr>\n",
              "    <tr>\n",
              "      <th>...</th>\n",
              "      <td>...</td>\n",
              "    </tr>\n",
              "    <tr>\n",
              "      <th>788</th>\n",
              "      <td>0</td>\n",
              "    </tr>\n",
              "    <tr>\n",
              "      <th>789</th>\n",
              "      <td>0</td>\n",
              "    </tr>\n",
              "    <tr>\n",
              "      <th>790</th>\n",
              "      <td>0</td>\n",
              "    </tr>\n",
              "    <tr>\n",
              "      <th>791</th>\n",
              "      <td>1</td>\n",
              "    </tr>\n",
              "    <tr>\n",
              "      <th>792</th>\n",
              "      <td>1</td>\n",
              "    </tr>\n",
              "  </tbody>\n",
              "</table>\n",
              "<p>793 rows × 1 columns</p>\n",
              "</div>"
            ],
            "text/plain": [
              "     label\n",
              "0        1\n",
              "1        0\n",
              "2        1\n",
              "3        1\n",
              "4        0\n",
              "..     ...\n",
              "788      0\n",
              "789      0\n",
              "790      0\n",
              "791      1\n",
              "792      1\n",
              "\n",
              "[793 rows x 1 columns]"
            ]
          },
          "metadata": {
            "tags": []
          },
          "execution_count": 6
        }
      ]
    },
    {
      "cell_type": "code",
      "metadata": {
        "id": "L3qKhpTp5BJ4",
        "colab_type": "code",
        "outputId": "8c7be798-a097-4bd1-f4cf-2c2c48c60d37",
        "colab": {
          "base_uri": "https://localhost:8080/",
          "height": 399
        }
      },
      "source": [
        "test_label"
      ],
      "execution_count": 7,
      "outputs": [
        {
          "output_type": "execute_result",
          "data": {
            "text/html": [
              "<div>\n",
              "<style scoped>\n",
              "    .dataframe tbody tr th:only-of-type {\n",
              "        vertical-align: middle;\n",
              "    }\n",
              "\n",
              "    .dataframe tbody tr th {\n",
              "        vertical-align: top;\n",
              "    }\n",
              "\n",
              "    .dataframe thead th {\n",
              "        text-align: right;\n",
              "    }\n",
              "</style>\n",
              "<table border=\"1\" class=\"dataframe\">\n",
              "  <thead>\n",
              "    <tr style=\"text-align: right;\">\n",
              "      <th></th>\n",
              "      <th>label</th>\n",
              "    </tr>\n",
              "  </thead>\n",
              "  <tbody>\n",
              "    <tr>\n",
              "      <th>0</th>\n",
              "      <td>1</td>\n",
              "    </tr>\n",
              "    <tr>\n",
              "      <th>1</th>\n",
              "      <td>1</td>\n",
              "    </tr>\n",
              "    <tr>\n",
              "      <th>2</th>\n",
              "      <td>1</td>\n",
              "    </tr>\n",
              "    <tr>\n",
              "      <th>3</th>\n",
              "      <td>0</td>\n",
              "    </tr>\n",
              "    <tr>\n",
              "      <th>4</th>\n",
              "      <td>1</td>\n",
              "    </tr>\n",
              "    <tr>\n",
              "      <th>...</th>\n",
              "      <td>...</td>\n",
              "    </tr>\n",
              "    <tr>\n",
              "      <th>202</th>\n",
              "      <td>1</td>\n",
              "    </tr>\n",
              "    <tr>\n",
              "      <th>203</th>\n",
              "      <td>1</td>\n",
              "    </tr>\n",
              "    <tr>\n",
              "      <th>204</th>\n",
              "      <td>1</td>\n",
              "    </tr>\n",
              "    <tr>\n",
              "      <th>205</th>\n",
              "      <td>0</td>\n",
              "    </tr>\n",
              "    <tr>\n",
              "      <th>206</th>\n",
              "      <td>1</td>\n",
              "    </tr>\n",
              "  </tbody>\n",
              "</table>\n",
              "<p>207 rows × 1 columns</p>\n",
              "</div>"
            ],
            "text/plain": [
              "     label\n",
              "0        1\n",
              "1        1\n",
              "2        1\n",
              "3        0\n",
              "4        1\n",
              "..     ...\n",
              "202      1\n",
              "203      1\n",
              "204      1\n",
              "205      0\n",
              "206      1\n",
              "\n",
              "[207 rows x 1 columns]"
            ]
          },
          "metadata": {
            "tags": []
          },
          "execution_count": 7
        }
      ]
    },
    {
      "cell_type": "markdown",
      "metadata": {
        "id": "wQIVU4-zXpE_",
        "colab_type": "text"
      },
      "source": [
        "# Train Decision Tree with default parameters"
      ]
    },
    {
      "cell_type": "code",
      "metadata": {
        "id": "oLznLl_lXYZf",
        "colab_type": "code",
        "outputId": "2a495bf0-de82-4fa7-ebf6-fb8fb47bfbf4",
        "colab": {
          "base_uri": "https://localhost:8080/",
          "height": 35
        }
      },
      "source": [
        "from sklearn.tree import DecisionTreeClassifier\n",
        "\n",
        "clf = DecisionTreeClassifier(criterion='entropy',)\n",
        "clf = clf.fit(train_data, train_label)\n",
        "\n",
        "# Estimate the prediction of test data\n",
        "test_pred = clf.predict(test_data)\n",
        "\n",
        "# Calculate accuracy of test data\n",
        "from sklearn.metrics import accuracy_score\n",
        "TestAcc =accuracy_score(test_label, test_pred)\n",
        "print(\"Testing Accuracy = %.5f%%\" % (TestAcc * 100))"
      ],
      "execution_count": 8,
      "outputs": [
        {
          "output_type": "stream",
          "text": [
            "Testing Accuracy = 67.63285%\n"
          ],
          "name": "stdout"
        }
      ]
    },
    {
      "cell_type": "markdown",
      "metadata": {
        "id": "cqgNZYUMXv8X",
        "colab_type": "text"
      },
      "source": [
        "# FineTune Decision Tree parameters\n",
        "\n",
        "1- Spliting dataset into train and validation "
      ]
    },
    {
      "cell_type": "code",
      "metadata": {
        "id": "nWJxk-zjy0Kv",
        "colab_type": "code",
        "colab": {}
      },
      "source": [
        "\n",
        "# Split training data to 70% training and 30% validation\n",
        "from sklearn.model_selection import train_test_split\n",
        "x_train, x_val, y_train, y_val = train_test_split(train_data,train_label,test_size=0.3)"
      ],
      "execution_count": 0,
      "outputs": []
    },
    {
      "cell_type": "markdown",
      "metadata": {
        "id": "cqws-kTZYHoG",
        "colab_type": "text"
      },
      "source": [
        "2- FineTune minimum sample split"
      ]
    },
    {
      "cell_type": "code",
      "metadata": {
        "id": "O1DvpmCCJXTb",
        "colab_type": "code",
        "outputId": "d9acb713-a064-4246-a2d3-744c5415e8c9",
        "colab": {
          "base_uri": "https://localhost:8080/",
          "height": 1000
        }
      },
      "source": [
        "min_samples_splits = range(2, 100)\n",
        "\n",
        "train_results = []\n",
        "val_results = []\n",
        "for mss in min_samples_splits:\n",
        "  \n",
        "  # Fit the tree using the 70% portion of the training data\n",
        "  dt=DecisionTreeClassifier(min_samples_split=mss ,criterion='entropy')\n",
        "  dt.fit(x_train, y_train)\n",
        "  # One line of code\n",
        "  # One line of code\n",
        "  \n",
        "  # Evaluate on Training set\n",
        "  train_pred =dt.predict(x_train) # One line of code\n",
        "  train_acc =accuracy_score(y_train,train_pred) # One line of code\n",
        "  train_results.append(train_acc)\n",
        "   \n",
        "  # Evaluate on Validation set\n",
        "  val_pred = dt.predict(x_val)# One line of code\n",
        "  val_acc = accuracy_score(y_val,val_pred)# One line of code\n",
        "  val_results.append(val_acc)\n",
        "  print(\"mss\",mss, \"// accuracy = \", val_acc)\n",
        "# Ploting\n",
        "import matplotlib.pyplot as plt\n",
        "\n",
        "plt.plot(min_samples_splits, train_results, 'b')\n",
        "plt.plot(min_samples_splits, val_results,'r')\n",
        "plt.show()"
      ],
      "execution_count": 10,
      "outputs": [
        {
          "output_type": "stream",
          "text": [
            "mss 2 // accuracy =  0.7016806722689075\n",
            "mss 3 // accuracy =  0.6680672268907563\n",
            "mss 4 // accuracy =  0.6848739495798319\n",
            "mss 5 // accuracy =  0.6722689075630253\n",
            "mss 6 // accuracy =  0.6680672268907563\n",
            "mss 7 // accuracy =  0.6764705882352942\n",
            "mss 8 // accuracy =  0.6722689075630253\n",
            "mss 9 // accuracy =  0.6764705882352942\n",
            "mss 10 // accuracy =  0.6680672268907563\n",
            "mss 11 // accuracy =  0.6764705882352942\n",
            "mss 12 // accuracy =  0.680672268907563\n",
            "mss 13 // accuracy =  0.6764705882352942\n",
            "mss 14 // accuracy =  0.6722689075630253\n",
            "mss 15 // accuracy =  0.6680672268907563\n",
            "mss 16 // accuracy =  0.6932773109243697\n",
            "mss 17 // accuracy =  0.7058823529411765\n",
            "mss 18 // accuracy =  0.6932773109243697\n",
            "mss 19 // accuracy =  0.7142857142857143\n",
            "mss 20 // accuracy =  0.7184873949579832\n",
            "mss 21 // accuracy =  0.7142857142857143\n",
            "mss 22 // accuracy =  0.7058823529411765\n",
            "mss 23 // accuracy =  0.7100840336134454\n",
            "mss 24 // accuracy =  0.7058823529411765\n",
            "mss 25 // accuracy =  0.7058823529411765\n",
            "mss 26 // accuracy =  0.6890756302521008\n",
            "mss 27 // accuracy =  0.6890756302521008\n",
            "mss 28 // accuracy =  0.7100840336134454\n",
            "mss 29 // accuracy =  0.7142857142857143\n",
            "mss 30 // accuracy =  0.7100840336134454\n",
            "mss 31 // accuracy =  0.7100840336134454\n",
            "mss 32 // accuracy =  0.7142857142857143\n",
            "mss 33 // accuracy =  0.7142857142857143\n",
            "mss 34 // accuracy =  0.7184873949579832\n",
            "mss 35 // accuracy =  0.7184873949579832\n",
            "mss 36 // accuracy =  0.7184873949579832\n",
            "mss 37 // accuracy =  0.7142857142857143\n",
            "mss 38 // accuracy =  0.7184873949579832\n",
            "mss 39 // accuracy =  0.7184873949579832\n",
            "mss 40 // accuracy =  0.7226890756302521\n",
            "mss 41 // accuracy =  0.7226890756302521\n",
            "mss 42 // accuracy =  0.7226890756302521\n",
            "mss 43 // accuracy =  0.7226890756302521\n",
            "mss 44 // accuracy =  0.7226890756302521\n",
            "mss 45 // accuracy =  0.7226890756302521\n",
            "mss 46 // accuracy =  0.7226890756302521\n",
            "mss 47 // accuracy =  0.7226890756302521\n",
            "mss 48 // accuracy =  0.7226890756302521\n",
            "mss 49 // accuracy =  0.7226890756302521\n",
            "mss 50 // accuracy =  0.7226890756302521\n",
            "mss 51 // accuracy =  0.7226890756302521\n",
            "mss 52 // accuracy =  0.7226890756302521\n",
            "mss 53 // accuracy =  0.726890756302521\n",
            "mss 54 // accuracy =  0.726890756302521\n",
            "mss 55 // accuracy =  0.726890756302521\n",
            "mss 56 // accuracy =  0.726890756302521\n",
            "mss 57 // accuracy =  0.726890756302521\n",
            "mss 58 // accuracy =  0.726890756302521\n",
            "mss 59 // accuracy =  0.726890756302521\n",
            "mss 60 // accuracy =  0.726890756302521\n",
            "mss 61 // accuracy =  0.7142857142857143\n",
            "mss 62 // accuracy =  0.7142857142857143\n",
            "mss 63 // accuracy =  0.7142857142857143\n",
            "mss 64 // accuracy =  0.7058823529411765\n",
            "mss 65 // accuracy =  0.7058823529411765\n",
            "mss 66 // accuracy =  0.7058823529411765\n",
            "mss 67 // accuracy =  0.7058823529411765\n",
            "mss 68 // accuracy =  0.7058823529411765\n",
            "mss 69 // accuracy =  0.7058823529411765\n",
            "mss 70 // accuracy =  0.7058823529411765\n",
            "mss 71 // accuracy =  0.7058823529411765\n",
            "mss 72 // accuracy =  0.7058823529411765\n",
            "mss 73 // accuracy =  0.7058823529411765\n",
            "mss 74 // accuracy =  0.7058823529411765\n",
            "mss 75 // accuracy =  0.7058823529411765\n",
            "mss 76 // accuracy =  0.7058823529411765\n",
            "mss 77 // accuracy =  0.7058823529411765\n",
            "mss 78 // accuracy =  0.7058823529411765\n",
            "mss 79 // accuracy =  0.7226890756302521\n",
            "mss 80 // accuracy =  0.7226890756302521\n",
            "mss 81 // accuracy =  0.7226890756302521\n",
            "mss 82 // accuracy =  0.7226890756302521\n",
            "mss 83 // accuracy =  0.7226890756302521\n",
            "mss 84 // accuracy =  0.7226890756302521\n",
            "mss 85 // accuracy =  0.7226890756302521\n",
            "mss 86 // accuracy =  0.7226890756302521\n",
            "mss 87 // accuracy =  0.7226890756302521\n",
            "mss 88 // accuracy =  0.7226890756302521\n",
            "mss 89 // accuracy =  0.7226890756302521\n",
            "mss 90 // accuracy =  0.7226890756302521\n",
            "mss 91 // accuracy =  0.7226890756302521\n",
            "mss 92 // accuracy =  0.7226890756302521\n",
            "mss 93 // accuracy =  0.7226890756302521\n",
            "mss 94 // accuracy =  0.7226890756302521\n",
            "mss 95 // accuracy =  0.7226890756302521\n",
            "mss 96 // accuracy =  0.7226890756302521\n",
            "mss 97 // accuracy =  0.7226890756302521\n",
            "mss 98 // accuracy =  0.7226890756302521\n",
            "mss 99 // accuracy =  0.7226890756302521\n"
          ],
          "name": "stdout"
        },
        {
          "output_type": "display_data",
          "data": {
            "image/png": "[encoded data removed]",
            "text/plain": [
              "<Figure size 432x288 with 1 Axes>"
            ]
          },
          "metadata": {
            "tags": []
          }
        }
      ]
    },
    {
      "cell_type": "markdown",
      "metadata": {
        "id": "PM_mwwzOKmwd",
        "colab_type": "text"
      },
      "source": [
        ""
      ]
    },
    {
      "cell_type": "code",
      "metadata": {
        "id": "akVAE3MbL7bE",
        "colab_type": "code",
        "outputId": "f86ad9cb-237b-423e-c863-80fc828b96a3",
        "colab": {
          "base_uri": "https://localhost:8080/",
          "height": 35
        }
      },
      "source": [
        "# Choose the best minimum split sample based on the plot\n",
        "Best_minSampl=np.argmax(val_results)\n",
        "\n",
        "print(\"Best_minSampl is\", np.argmax(val_results))\n"
      ],
      "execution_count": 11,
      "outputs": [
        {
          "output_type": "stream",
          "text": [
            "Best_minSampl is 51\n"
          ],
          "name": "stdout"
        }
      ]
    },
    {
      "cell_type": "code",
      "metadata": {
        "id": "q8MFGuiOIaHm",
        "colab_type": "code",
        "outputId": "ba146364-b968-444c-eaf5-9bca3aed240e",
        "colab": {
          "base_uri": "https://localhost:8080/",
          "height": 35
        }
      },
      "source": [
        "# Train decision tree using the full training data and the best minimum split sample\n",
        "dt1 = DecisionTreeClassifier(criterion='entropy', min_samples_split=Best_minSampl)\n",
        "dt1 = dt1.fit(train_data, train_label)\n",
        "# Estimate the prediction of the test data\n",
        "test_pred =dt1.predict(test_data)\n",
        " # One line of code\n",
        "\n",
        "# Calculate accuracy of test data\n",
        "TestAccc = accuracy_score(test_label, test_pred)\n",
        "print(\"Testing Accuracy = %.5f%%\" % (TestAccc * 100))"
      ],
      "execution_count": 12,
      "outputs": [
        {
          "output_type": "stream",
          "text": [
            "Testing Accuracy = 71.49758%\n"
          ],
          "name": "stdout"
        }
      ]
    },
    {
      "cell_type": "markdown",
      "metadata": {
        "id": "VciE0lfYKhya",
        "colab_type": "text"
      },
      "source": [
        "# Now, apply the same procedure but using KNN instead of decision tree \n",
        "\n",
        "# For finetuning, find the best value of K to use with this dataset."
      ]
    },
    {
      "cell_type": "code",
      "metadata": {
        "id": "cA7o_GwjCiSn",
        "colab_type": "code",
        "outputId": "44269b0c-d8f1-4ea2-d03b-97702ee1220b",
        "colab": {
          "base_uri": "https://localhost:8080/",
          "height": 90
        }
      },
      "source": [
        "\n",
        "from sklearn.neighbors import KNeighborsClassifier\n",
        "from sklearn import metrics\n",
        "knn =KNeighborsClassifier()\n",
        "knn = knn.fit(train_data, train_label)\n",
        "\n",
        "# Estimate the prediction of test data\n",
        "test_pred1 = knn.predict(test_data)\n",
        "\n",
        "# Calculate accuracy of test data\n",
        "from sklearn.metrics import accuracy_score\n",
        "TestAcc =accuracy_score(test_label, test_pred1)\n",
        "print(\"Testing Accuracy = %.5f%%\" % (TestAcc * 100))"
      ],
      "execution_count": 15,
      "outputs": [
        {
          "output_type": "stream",
          "text": [
            "Testing Accuracy = 67.63285%\n"
          ],
          "name": "stdout"
        },
        {
          "output_type": "stream",
          "text": [
            "/usr/local/lib/python3.6/dist-packages/ipykernel_launcher.py:5: DataConversionWarning: A column-vector y was passed when a 1d array was expected. Please change the shape of y to (n_samples, ), for example using ravel().\n",
            "  \"\"\"\n"
          ],
          "name": "stderr"
        }
      ]
    },
    {
      "cell_type": "code",
      "metadata": {
        "id": "EdBaXNKoLBcL",
        "colab_type": "code",
        "outputId": "37823f8c-dcc1-4397-a34e-8af1a1822742",
        "colab": {
          "base_uri": "https://localhost:8080/",
          "height": 532
        }
      },
      "source": [
        "# Write your code here\n",
        "\n",
        "from sklearn.neighbors import KNeighborsClassifier\n",
        "from sklearn import metrics\n",
        "# initialize the values of k to be a list of odd numbers between 1 and 30\n",
        "kVals = list(range(1, 30, 2))\n",
        "\n",
        "train_results2 = []\n",
        "val_results_Knn = []\n",
        "# Save the accuracies of each value of kVal in [accuracies] variable\n",
        "# hint: you can use accuracies.append(...) function inside the loop\n",
        "accuracies = []\n",
        "\n",
        "# loop over values of k for the k-Nearest Neighbor classifier\n",
        "for k in kVals:\n",
        "    # Follow what we did in decision tree part\n",
        "    model = KNeighborsClassifier(n_neighbors=k)\n",
        "    model.fit(x_train, y_train.values.ravel())\n",
        "    \n",
        "    # Evaluate on Training set\n",
        "    train_pred2 =dt.predict(x_train) # One line of code\n",
        "    train_acc2 =accuracy_score(y_train.values.ravel(),train_pred) # One line of code\n",
        "    train_results2.append(train_acc)\n",
        "   \n",
        "  # Evaluate on Validation set\n",
        "    val_predknn = model.predict(x_val)# One line of code \n",
        "    val_accknn = accuracy_score(y_val.values.ravel(),val_predknn)# One line of code\n",
        "    val_results_Knn.append(val_accknn)\n",
        "    \n",
        "    score = model.score(x_val, y_val.values.ravel())\n",
        "    print(\"For k = %d, validation accuracy = %.5f%%\" % (k, score * 100))\n",
        "    accuracies.append(score)\n",
        "import matplotlib.pyplot as plt\n",
        "\n",
        "plt.plot(kVals, accuracies,'r')\n",
        "plt.plot(kVals, val_results_Knn,'b')\n",
        "plt.show()"
      ],
      "execution_count": 16,
      "outputs": [
        {
          "output_type": "stream",
          "text": [
            "For k = 1, validation accuracy = 51.68067%\n",
            "For k = 3, validation accuracy = 53.78151%\n",
            "For k = 5, validation accuracy = 57.14286%\n",
            "For k = 7, validation accuracy = 60.92437%\n",
            "For k = 9, validation accuracy = 60.92437%\n",
            "For k = 11, validation accuracy = 64.70588%\n",
            "For k = 13, validation accuracy = 64.70588%\n",
            "For k = 15, validation accuracy = 63.44538%\n",
            "For k = 17, validation accuracy = 65.12605%\n",
            "For k = 19, validation accuracy = 66.80672%\n",
            "For k = 21, validation accuracy = 67.64706%\n",
            "For k = 23, validation accuracy = 68.48739%\n",
            "For k = 25, validation accuracy = 68.06723%\n",
            "For k = 27, validation accuracy = 67.64706%\n",
            "For k = 29, validation accuracy = 67.64706%\n"
          ],
          "name": "stdout"
        },
        {
          "output_type": "display_data",
          "data": {
            "image/png": "[encoded data removed]",
            "text/plain": [
              "<Figure size 432x288 with 1 Axes>"
            ]
          },
          "metadata": {
            "tags": []
          }
        }
      ]
    },
    {
      "cell_type": "code",
      "metadata": {
        "id": "TfdqDDjKFiDd",
        "colab_type": "code",
        "outputId": "cd6d412e-014f-4b08-b70a-ddee79b16a0d",
        "colab": {
          "base_uri": "https://localhost:8080/",
          "height": 52
        }
      },
      "source": [
        "\n",
        "# Train KNN using the full training data with the best K that you found\n",
        "i = np.argmax(accuracies)\n",
        "print(\"best k = %d with %.5f%% validation accuracy\" % (kVals[i], accuracies[i] * 100))\n",
        "model1 = KNeighborsClassifier(n_neighbors=kVals[i])\n",
        "model1.fit(train_data, train_label.values.ravel())\n",
        "predictions1 = model1.predict(test_data)\n",
        "\n",
        "# Testing\n",
        "from sklearn.metrics import accuracy_score\n",
        "TestAcc = accuracy_score(test_label.values.ravel(), predictions1)\n",
        "print(\"Testing Accuracy = %.5f%%\" % (TestAcc * 100))"
      ],
      "execution_count": 17,
      "outputs": [
        {
          "output_type": "stream",
          "text": [
            "best k = 23 with 68.48739% validation accuracy\n",
            "Testing Accuracy = 70.04831%\n"
          ],
          "name": "stdout"
        }
      ]
    },
    {
      "cell_type": "markdown",
      "metadata": {
        "id": "zMEdOIlJQBin",
        "colab_type": "text"
      },
      "source": [
        "# Bonus\n",
        "\n",
        "# Apply gridsearch using decision tree on any hyperparameter(s) of your choice, you have to beat your previous obtained accuracies to get the bonus\n"
      ]
    },
    {
      "cell_type": "code",
      "metadata": {
        "id": "J-9TxVbXQCw7",
        "colab_type": "code",
        "outputId": "81b66a25-5c42-4a5d-db24-698fe50c2fb2",
        "colab": {
          "base_uri": "https://localhost:8080/",
          "height": 230
        }
      },
      "source": [
        "# Write your code here\n",
        "from sklearn.metrics import make_scorer, accuracy_score\n",
        "from sklearn.model_selection import GridSearchCV\n",
        "\n",
        "dt2=DecisionTreeClassifier()\n",
        "\n",
        "#Tuning hyperparameters \n",
        "parametersD3 = {\n",
        "              'criterion':['gini'],\n",
        "              'max_depth':list(range(1,15,2)),\n",
        "              'max_leaf_nodes':list(range(2,30)),\n",
        "             }\n",
        "acc_scorer = make_scorer(accuracy_score)\n",
        "\n",
        "\n",
        "# Running the grid search\n",
        "grid_obj = GridSearchCV(dt2, parametersD3, scoring=acc_scorer)\n",
        "grid_obj = grid_obj.fit(train_data, train_label)\n",
        "\n",
        "# Set the dt to the best combination of parameters\n",
        "dt2=DecisionTreeClassifier()\n",
        "dt2= grid_obj.best_estimator_\n",
        "print(dt2)\n",
        "# Fit the best algorithm to the data. \n",
        "dt2.fit(train_data,train_label)\n"
      ],
      "execution_count": 33,
      "outputs": [
        {
          "output_type": "stream",
          "text": [
            "DecisionTreeClassifier(ccp_alpha=0.0, class_weight=None, criterion='gini',\n",
            "                       max_depth=7, max_features=None, max_leaf_nodes=15,\n",
            "                       min_impurity_decrease=0.0, min_impurity_split=None,\n",
            "                       min_samples_leaf=1, min_samples_split=2,\n",
            "                       min_weight_fraction_leaf=0.0, presort='deprecated',\n",
            "                       random_state=None, splitter='best')\n"
          ],
          "name": "stdout"
        },
        {
          "output_type": "execute_result",
          "data": {
            "text/plain": [
              "DecisionTreeClassifier(ccp_alpha=0.0, class_weight=None, criterion='gini',\n",
              "                       max_depth=7, max_features=None, max_leaf_nodes=15,\n",
              "                       min_impurity_decrease=0.0, min_impurity_split=None,\n",
              "                       min_samples_leaf=1, min_samples_split=2,\n",
              "                       min_weight_fraction_leaf=0.0, presort='deprecated',\n",
              "                       random_state=None, splitter='best')"
            ]
          },
          "metadata": {
            "tags": []
          },
          "execution_count": 33
        }
      ]
    },
    {
      "cell_type": "code",
      "metadata": {
        "id": "uxvWbhvdqVb9",
        "colab_type": "code",
        "outputId": "c0159034-806d-4e55-c20b-761d872386b1",
        "colab": {
          "base_uri": "https://localhost:8080/",
          "height": 106
        }
      },
      "source": [
        "#testing dt with best parameters\n",
        "predictions = dt2.predict(test_data)\n",
        "\n",
        "print(\"************************************\")\n",
        "print(\"Testing Accuracy of Previous Decision Tree = %.5f%%\" % (TestAccc * 100))\n",
        "\n",
        "print(\"************************************\")\n",
        "\n",
        "print(\"After Grid Search Testing Accuracy = %.5f%% \"%(accuracy_score(test_label, predictions)*100))\n",
        "print(\"************************************\")\n"
      ],
      "execution_count": 34,
      "outputs": [
        {
          "output_type": "stream",
          "text": [
            "************************************\n",
            "Testing Accuracy of Previous Decision Tree = 71.49758%\n",
            "************************************\n",
            "After Grid Search Testing Accuracy = 73.42995% \n",
            "************************************\n"
          ],
          "name": "stdout"
        }
      ]
    },
    {
      "cell_type": "markdown",
      "metadata": {
        "id": "1VCH10cwnAU-",
        "colab_type": "text"
      },
      "source": [
        "# Report: Write a summary of your approach to this problem; this should be like an abstract of a paper or the executive summary (you aim for clarity and passing on information, not going to details about known facts such as what decision trees are, assuming they are known to people in your research area).\n",
        "\n",
        "Must include statements such as:\n",
        "\n",
        "\n",
        "*   Include the problem definition: 1-2 lines\n",
        "*   Talk about train/val/test sets, size and how split.\n",
        "*   State what your test results are with the chosen method, parameters: e.g. \"We have obtained the best results with the ….. classifier (parameters=....) , giving classification accuracy of …% on test data….\"\n",
        "*   Comment on the speed of the algorithms and anything else that you deem important/interesting (e.g. confusion matrix)\n",
        "\n"
      ]
    },
    {
      "cell_type": "code",
      "metadata": {
        "id": "iLTNonm8qUOS",
        "colab_type": "code",
        "colab": {}
      },
      "source": [
        ""
      ],
      "execution_count": 0,
      "outputs": []
    },
    {
      "cell_type": "markdown",
      "metadata": {
        "id": "72KDasqHnt1T",
        "colab_type": "text"
      },
      "source": [
        "# Write your report in this cell\n",
        "\n",
        "REPORT\n",
        "--------------------\n",
        "**********************\n",
        "The dataset contains 1000 entries with 20 categorical attributes. Each\n",
        "entry represents a person who takes a credit by a bank. \n",
        "\n",
        "Task needed to be done is to classify a person as good or bad credit risks according to set of attributes.\n",
        "In our data, training and testing  data were already given seperatly. We divided this training data again 70% for training and 30% for validation.\n",
        "\n",
        "DECISION TREE CLASSIFIER \n",
        "**********\n",
        "First we classified with Decision Tree Classifier with default parameters.\n",
        "The result we obtain 67.63285% then we search for the Best Minimum Sample Split size\n",
        "among an array 2 to 100. Best result we obtained here with the validation set was  0.7226890756302521 with Minimum Sample Split size = 51.\n",
        "\n",
        "Then we trained our full training data Minimum Sample Split size = 51. We get the Testing Accuracy = 71.49758%. Which is an improvement after the result we obtained from default parametered Decision Tree.\n",
        "\n",
        "KNN\n",
        "**********\n",
        "In addition to the decision tree we used KNN classifier. What we get first with default parameters is Testing Accuracy = 67.63285%. We improved it by trying different k numbers between 1 and 30.(Only the odd numbers between). We obtained the best results on validation set when k = 23 with 68.48739% validation accuracy.\n",
        "\n",
        "Then we trained the whole training data with k=23 and we get the \n",
        "Testing Accuracy = 70.04831%\n",
        "\n",
        "COMPLEXITIES\n",
        "***********\n",
        "Assuming N is the number of rows in training data and F is the number of  features(columns) in data. D is the depth of the tree. Depends on how balanced it is we have complexity for the DT. \n",
        "\n",
        "      Between  O(NF log(D)) AND O((N^2)F) \n",
        "\n",
        "For KNN, its complexity depends on the data,if we take data points as N we will have complexity.\n",
        "      \n",
        "        O(N^2)\n",
        "In our case we have 1000 rows in total, approximately 800 rows our training data and 20 features and for DT, depth around 8.\n",
        "\n",
        "Since our data is not a large data to study on, we won't have big speed differences.\n",
        "\n",
        "For gridsearch we have tried 3 features on decision tree classifier. However we set criterion to Gini. We have O(N^2) complexity for grid search. \n",
        "\n",
        "BONUS PART\n",
        "**********\n",
        "For that part we need to get better results than the obtained before with different classifiers and parameters.\n",
        "What we got from DTC was Testing Accuracy = 71.49758%.\n",
        "\n",
        "What we got from KNN was Testing Accuracy = 70.04831%\n",
        "\n",
        "By applying grid search on DTC we have obtained Testing Accuracy = 73.42995% \n",
        "\n",
        "On this Grid search we have only tried these three parameters between given ranges.\n",
        "\n",
        "              'criterion':['gini'],\n",
        "              'max_depth':list(range(1,15,2)),\n",
        "              'max_leaf_nodes':list(range(2,30))\n",
        "\n",
        "             \n",
        "For information gain we tried Gini impurity instead of entropy and that resulted  in higher accuracy rate.\n",
        "Best parameters we have obtained for this result are :\n",
        "             \n",
        "              criterion='gini'\n",
        "              max_depth=7\n",
        "              max_leaf_nodes=15\n",
        "\n",
        "Hence we obtained a better result than the previous approaches with \n",
        "---------------------------------------------------------------------\n",
        "Testing Accuracy = 73.42995% \n",
        "---------------------------------"
      ]
    },
    {
      "cell_type": "code",
      "metadata": {
        "id": "mlDwn21lBD6A",
        "colab_type": "code",
        "colab": {}
      },
      "source": [
        ""
      ],
      "execution_count": 0,
      "outputs": []
    }
  ]
}